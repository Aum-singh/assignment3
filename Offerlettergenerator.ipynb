{
 "cells": [
  {
   "cell_type": "code",
   "execution_count": 5,
   "id": "7af15313-4f47-4351-8a15-3aa577d15d84",
   "metadata": {},
   "outputs": [
    {
     "name": "stdin",
     "output_type": "stream",
     "text": [
      "Enter candidate's full name:  asdfsadfsf\n",
      "Enter job position:  dfaaddf\n",
      "Enter date of joining (DD-MM-YYYY):  adsfadfasd\n",
      "Enter total CTC amount:  adfafasdf\n",
      "Enter contact email for confirmation:  adfasdfsdf\n"
     ]
    },
    {
     "name": "stdout",
     "output_type": "stream",
     "text": [
      "  \n",
      "==============================================================================================================================\n",
      "A/52 Sector 16 Noida UP\n",
      "\n",
      "Dear asdfsadfsf,\n",
      "\n",
      "Subject: Offer of Employment for the position of dfaaddf\n",
      "\n",
      "We are delighted to extend this formal offer of employment to you for the position of dfaaddf at our organization. Based on your qualifications and the skills you demonstrated during the recruitment process, we are confident that you will be a valuable addition to our team.\n",
      "\n",
      "As discussed, your expected date of joining is adsfadfasd. Your total compensation package will be adfafasdf, which includes all salary components as per the company’s policy. Further details regarding your compensation will be provided in your employment contract.\n",
      "\n",
      "We expect you to bring your best efforts to help the company achieve its goals, and we are committed to supporting your professional growth during your time with us.\n",
      "\n",
      "Please confirm your acceptance of this offer by sending an email to adfasdfsdf at your earliest convenience. Should you have any queries regarding this offer, feel free to reach out to us.\n",
      "\n",
      "We look forward to having you onboard and are excited about the great things we can accomplish together.\n",
      "\n",
      "Sincerely,\n",
      "\n",
      "Sunil Kumar  \n",
      "HR Manager\n",
      "\n"
     ]
    }
   ],
   "source": [
    "def offerletter(name, position, doj, salary, email):\n",
    "    letter = f\"\"\"  \n",
    "==============================================================================================================================\n",
    "A/52 Sector 16 Noida UP\n",
    "\n",
    "Dear {name},\n",
    "\n",
    "Subject: Offer of Employment for the position of {position}\n",
    "\n",
    "We are delighted to extend this formal offer of employment to you for the position of {position} at our organization. Based on your qualifications and the skills you demonstrated during the recruitment process, we are confident that you will be a valuable addition to our team.\n",
    "\n",
    "As discussed, your expected date of joining is {doj}. Your total compensation package will be {salary}, which includes all salary components as per the company’s policy. Further details regarding your compensation will be provided in your employment contract.\n",
    "\n",
    "We expect you to bring your best efforts to help the company achieve its goals, and we are committed to supporting your professional growth during your time with us.\n",
    "\n",
    "Please confirm your acceptance of this offer by sending an email to {email} at your earliest convenience. Should you have any queries regarding this offer, feel free to reach out to us.\n",
    "\n",
    "We look forward to having you onboard and are excited about the great things we can accomplish together.\n",
    "\n",
    "Sincerely,\n",
    "\n",
    "Sunil Kumar  \n",
    "HR Manager\n",
    "\"\"\"\n",
    "    return letter\n",
    "\n",
    "\n",
    "newname = input(\"Enter candidate's full name: \")\n",
    "newjob = input(\"Enter job position: \")\n",
    "newjoining = input(\"Enter date of joining (DD-MM-YYYY): \")\n",
    "newpakage = input(\"Enter total CTC amount: \")\n",
    "newemail = input(\"Enter contact email for confirmation: \")\n",
    "\n",
    "\n",
    "newoffer = offerletter(newname, newjob, newjoining, newpakage, newemail)\n",
    "print(newoffer)"
   ]
  },
  {
   "cell_type": "code",
   "execution_count": null,
   "id": "3d0589e1-f5f9-4a07-ab50-82ed81294f58",
   "metadata": {},
   "outputs": [],
   "source": []
  }
 ],
 "metadata": {
  "kernelspec": {
   "display_name": "Python 3 (ipykernel)",
   "language": "python",
   "name": "python3"
  },
  "language_info": {
   "codemirror_mode": {
    "name": "ipython",
    "version": 3
   },
   "file_extension": ".py",
   "mimetype": "text/x-python",
   "name": "python",
   "nbconvert_exporter": "python",
   "pygments_lexer": "ipython3",
   "version": "3.12.4"
  }
 },
 "nbformat": 4,
 "nbformat_minor": 5
}
